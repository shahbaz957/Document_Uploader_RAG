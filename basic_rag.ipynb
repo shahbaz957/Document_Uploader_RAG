{
 "cells": [
  {
   "cell_type": "code",
   "execution_count": 60,
   "id": "66ba0ca6",
   "metadata": {},
   "outputs": [],
   "source": [
    "from langchain_groq import ChatGroq\n",
    "model = ChatGroq(model = 'qwen/qwen3-32b')\n"
   ]
  },
  {
   "cell_type": "code",
   "execution_count": 61,
   "id": "68e1f72f",
   "metadata": {},
   "outputs": [],
   "source": [
    "from langchain.document_loaders import TextLoader\n",
    "doc = TextLoader('info.txt')\n",
    "docs = doc.load()\n"
   ]
  },
  {
   "cell_type": "code",
   "execution_count": 62,
   "id": "e4dce9cc",
   "metadata": {},
   "outputs": [],
   "source": [
    "from langchain_text_splitters import RecursiveCharacterTextSplitter\n",
    "text_splitter = RecursiveCharacterTextSplitter(chunk_size = 100 , chunk_overlap = 10 )\n",
    "docs_splits = text_splitter.split_documents(docs)"
   ]
  },
  {
   "cell_type": "code",
   "execution_count": 63,
   "id": "861958c6",
   "metadata": {},
   "outputs": [],
   "source": [
    "for doc in docs_splits:\n",
    "    doc.metadata['author'] = \"Shahbaz\""
   ]
  },
  {
   "cell_type": "code",
   "execution_count": 64,
   "id": "b906f88e",
   "metadata": {},
   "outputs": [],
   "source": [
    "import os\n",
    "os.environ['HUGGINGFACE_API_KEY'] = os.getenv(\"HUGGINGFACE_API_KEY\")\n",
    "from langchain_huggingface import HuggingFaceEmbeddings\n",
    "embeddings = HuggingFaceEmbeddings(model_name = \"all-MiniLM-L6-v2\")"
   ]
  },
  {
   "cell_type": "code",
   "execution_count": 65,
   "id": "2aa779ef",
   "metadata": {},
   "outputs": [
    {
     "name": "stderr",
     "output_type": "stream",
     "text": [
      "s:\\AI_AGENTS\\Python_N_Env\\LangGraph\\graphenv\\Lib\\site-packages\\torch\\nn\\modules\\module.py:1762: FutureWarning: `encoder_attention_mask` is deprecated and will be removed in version 4.55.0 for `BertSdpaSelfAttention.forward`.\n",
      "  return forward_call(*args, **kwargs)\n"
     ]
    }
   ],
   "source": [
    "docs_splits\n",
    "\n",
    "from langchain_community.vectorstores import FAISS\n",
    "\n",
    "vector_store = FAISS.from_documents(\n",
    "    documents=docs_splits,\n",
    "    embedding=embeddings\n",
    ")\n",
    "retriever = vector_store.as_retriever()"
   ]
  },
  {
   "cell_type": "code",
   "execution_count": 81,
   "id": "b3489a99",
   "metadata": {},
   "outputs": [
    {
     "name": "stderr",
     "output_type": "stream",
     "text": [
      "s:\\AI_AGENTS\\Python_N_Env\\LangGraph\\graphenv\\Lib\\site-packages\\torch\\nn\\modules\\module.py:1762: FutureWarning: `encoder_attention_mask` is deprecated and will be removed in version 4.55.0 for `BertSdpaSelfAttention.forward`.\n",
      "  return forward_call(*args, **kwargs)\n"
     ]
    }
   ],
   "source": [
    "## Question Grader\n",
    "from pydantic import Field , BaseModel\n",
    "from langchain_core.prompts import ChatPromptTemplate\n",
    "class QuestionGrader(BaseModel):\n",
    "    \"\"\"Binary score the question based on relevance with queried documents\"\"\"\n",
    "    binaryscore : str = Field(description=\"Score the question 'yes' or 'no' based on the relevance with retrieved documents\")\n",
    "llm_with_structured = model.with_structured_output(QuestionGrader)\n",
    "system = \"\"\"You are an expert classifier which classify the question based on the documents given whether the question is relevant to the documents or not if question is not relevant return 'no' otherwise return 'yes'\n",
    "\"\"\"\n",
    "prompt = ChatPromptTemplate([\n",
    "    ('system' , system),\n",
    "    ('human' , \"The question is : {question} Documents are \\n {documents}\")\n",
    "])\n",
    "\n",
    "question_grader = prompt | llm_with_structured\n",
    "question = \"what is agentic AI\"\n",
    "docs = retriever.invoke(question)\n",
    "res = question_grader.invoke({\"question\" : question , 'documents' : docs})\n",
    "\n",
    "\n",
    "    "
   ]
  },
  {
   "cell_type": "code",
   "execution_count": 82,
   "id": "2919ccbd",
   "metadata": {},
   "outputs": [
    {
     "data": {
      "text/plain": [
       "QuestionGrader(binaryscore='yes')"
      ]
     },
     "execution_count": 82,
     "metadata": {},
     "output_type": "execute_result"
    }
   ],
   "source": [
    "res"
   ]
  },
  {
   "cell_type": "markdown",
   "id": "06228d76",
   "metadata": {},
   "source": [
    "# **`Question Decider`**"
   ]
  },
  {
   "cell_type": "code",
   "execution_count": 86,
   "id": "20a042cf",
   "metadata": {},
   "outputs": [],
   "source": [
    "def question_decider(state):\n",
    "    question = state[\"question\"]\n",
    "    docs = retriever.invoke(question)  # or use state['documents'] if already set\n",
    "    grade = question_grader.invoke({\"question\": question, 'documents': docs})\n",
    "    score = grade.binaryscore\n",
    "    if score == 'yes':\n",
    "        print(\"----- Question is relative to the documents -----\")\n",
    "        return 'retrieve'\n",
    "    else:\n",
    "        print(\"Sorry question is not relative to the uploaded documents. Please ask a related question.\")\n",
    "        return 'end'\n"
   ]
  },
  {
   "cell_type": "code",
   "execution_count": null,
   "id": "16b4114e",
   "metadata": {},
   "outputs": [],
   "source": []
  },
  {
   "cell_type": "markdown",
   "id": "d86d59b7",
   "metadata": {},
   "source": [
    "# **`Retrieval Grader`**"
   ]
  },
  {
   "cell_type": "code",
   "execution_count": 69,
   "id": "7e48085f",
   "metadata": {},
   "outputs": [
    {
     "name": "stderr",
     "output_type": "stream",
     "text": [
      "s:\\AI_AGENTS\\Python_N_Env\\LangGraph\\graphenv\\Lib\\site-packages\\torch\\nn\\modules\\module.py:1762: FutureWarning: `encoder_attention_mask` is deprecated and will be removed in version 4.55.0 for `BertSdpaSelfAttention.forward`.\n",
      "  return forward_call(*args, **kwargs)\n"
     ]
    },
    {
     "data": {
      "text/plain": [
       "DocumentGrader(binaryscore='yes')"
      ]
     },
     "execution_count": 69,
     "metadata": {},
     "output_type": "execute_result"
    }
   ],
   "source": [
    "class DocumentGrader(BaseModel):\n",
    "    \"\"\"Binary score for relevance check on the retrieved documents\"\"\"\n",
    "    binaryscore : str = Field(description=\"Check whether the retrieved documents are related to the question or not if yes return 'yes' otherwise 'no'\")\n",
    "\n",
    "model = ChatGroq(model='qwen/qwen3-32b')\n",
    "llm_with_str = model.with_structured_output(DocumentGrader)\n",
    "\n",
    "system = \"\"\"You are an expert Document Grader which classify whether the retrieved documents are semantically related to the user question or not if not return 'no' and if they are related return 'yes'\n",
    "It does not need to be a stringent test. The goal is to filter out erroneous retrievals. \\n\n",
    "Give a binary score 'yes' or 'no' score to indicate whether the document is relevant to the question (user query).\"\"\"\n",
    "prompt = ChatPromptTemplate([\n",
    "    ('system' , system),\n",
    "    ('human' , \"Retrieved document: \\n\\n {documents} \\n\\n User question: {question}\")\n",
    "])\n",
    "\n",
    "retrieval_grader = prompt | llm_with_str\n",
    "\n",
    "question = \"what is Machine Learning\"\n",
    "docs = retriever.invoke(question)\n",
    "doc = docs[0]\n",
    "retrieval_grader.invoke({\"documents\" : doc, 'question' : question})"
   ]
  },
  {
   "cell_type": "markdown",
   "id": "e99c11cc",
   "metadata": {},
   "source": [
    "# **`RAG Chain`**"
   ]
  },
  {
   "cell_type": "code",
   "execution_count": 70,
   "id": "273b1036",
   "metadata": {},
   "outputs": [
    {
     "name": "stdout",
     "output_type": "stream",
     "text": [
      "Machine Learning is a powerful branch of Artificial Intelligence that enables computers to learn. It can be broadly categorized into supervised learning, where models are trained on labeled data. Machine learning has various applications, including fraud detection, medical diagnostics, and self-driving cars.\n"
     ]
    }
   ],
   "source": [
    "\n",
    "\n",
    "from langchain import hub\n",
    "from langchain_core.output_parsers import StrOutputParser\n",
    "\n",
    "prompt = hub.pull(\"rlm/rag-prompt\")\n",
    "\n",
    "llm = ChatGroq(model = 'llama-3.3-70b-versatile')\n",
    "\n",
    "\n",
    "# Post-processing\n",
    "def format_docs(docs):\n",
    "    return \"\\n\\n\".join(doc.page_content for doc in docs)\n",
    "\n",
    "\n",
    "# Chain\n",
    "rag_chain = prompt | llm | StrOutputParser()\n",
    "\n",
    "# Run\n",
    "generation = rag_chain.invoke({\"context\": docs, \"question\": question})\n",
    "print(generation)"
   ]
  },
  {
   "cell_type": "markdown",
   "id": "6141eac9",
   "metadata": {},
   "source": [
    "# **`Question Rewriter`**"
   ]
  },
  {
   "cell_type": "code",
   "execution_count": 71,
   "id": "d827a9c1",
   "metadata": {},
   "outputs": [
    {
     "data": {
      "text/plain": [
       "'What is the definition and application of Machine Learning in artificial intelligence?'"
      ]
     },
     "execution_count": 71,
     "metadata": {},
     "output_type": "execute_result"
    }
   ],
   "source": [
    "llm = ChatGroq(model = 'llama-3.3-70b-versatile')\n",
    "\n",
    "# Prompt\n",
    "system = \"\"\"You a question re-writer that converts an input question to a better version that is optimized \\n \n",
    "     for vectorstore retrieval. Look at the input and try to reason about the underlying semantic intent / meaning\n",
    "     Remember just output question only no extra information Strictly\n",
    "     \"\"\"\n",
    "re_write_prompt = ChatPromptTemplate.from_messages(\n",
    "    [\n",
    "        (\"system\", system),\n",
    "        (\n",
    "            \"human\",\n",
    "            \"Here is the initial question: \\n\\n {question} \\n Formulate an improved question.\",\n",
    "        ),\n",
    "    ]\n",
    ")\n",
    "\n",
    "question_rewriter = re_write_prompt | llm | StrOutputParser()\n",
    "question_rewriter.invoke({\"question\": question})"
   ]
  },
  {
   "cell_type": "markdown",
   "id": "05274ed5",
   "metadata": {},
   "source": [
    "# **`Answer Grader`**"
   ]
  },
  {
   "cell_type": "code",
   "execution_count": 72,
   "id": "bfa574f1",
   "metadata": {},
   "outputs": [
    {
     "data": {
      "text/plain": [
       "AnswerGrader(binaryscore='yes')"
      ]
     },
     "execution_count": 72,
     "metadata": {},
     "output_type": "execute_result"
    }
   ],
   "source": [
    "class AnswerGrader(BaseModel):\n",
    "    \"\"\"Binary Score the Answer Whether it satisfy the question\"\"\"\n",
    "    binaryscore : str = Field(description=\"Answer addresses the question, 'yes' or 'no'\")\n",
    "\n",
    "llm = ChatGroq(model = 'qwen/qwen3-32b')\n",
    "structured_llm_grader = llm.with_structured_output(AnswerGrader)\n",
    "\n",
    "# Prompt\n",
    "system = \"\"\"You are a grader assessing whether an answer addresses / resolves a question \\n \n",
    "     Give a binary score 'yes' or 'no'. Yes' means that the answer resolves the question.\"\"\"\n",
    "answer_prompt = ChatPromptTemplate.from_messages(\n",
    "    [\n",
    "        (\"system\", system),\n",
    "        (\"human\", \"User question: \\n\\n {question} \\n\\n LLM generation: {generation}\"),\n",
    "    ]\n",
    ")\n",
    "\n",
    "answer_grader = answer_prompt | structured_llm_grader\n",
    "answer_grader.invoke({\"question\": question, \"generation\": generation})"
   ]
  },
  {
   "cell_type": "markdown",
   "id": "924e793a",
   "metadata": {},
   "source": [
    "# **`Nodes Definition`**"
   ]
  },
  {
   "cell_type": "code",
   "execution_count": 73,
   "id": "365c160b",
   "metadata": {},
   "outputs": [],
   "source": [
    "from typing import List\n",
    "\n",
    "from typing_extensions import TypedDict\n",
    "\n",
    "class GraphState(TypedDict):\n",
    "    \"\"\"\n",
    "    Represents the state of our graph.\n",
    "\n",
    "    Attributes:\n",
    "        question: question\n",
    "        generation: LLM generation\n",
    "        documents: list of documents\n",
    "    \"\"\"\n",
    "    question : str\n",
    "    generation : str\n",
    "    documents : List[str]"
   ]
  },
  {
   "cell_type": "code",
   "execution_count": null,
   "id": "ddffd42c",
   "metadata": {},
   "outputs": [],
   "source": [
    "def retrieve(state : GraphState):\n",
    "    \"\"\"\n",
    "    Retrieve the documents from Vector DB\n",
    "    Args :\n",
    "        state (dict) : the current state of Graph\n",
    "\n",
    "    Returns:\n",
    "        state (dict) : the updated state of Graph after Retrieval \n",
    "    \"\"\"\n",
    "\n",
    "    question = state['question']\n",
    "    docs = retriever.invoke(question)\n",
    "    return {\"documents\" : docs}\n",
    "\n",
    "def generate(state : GraphState):\n",
    "    \"\"\"\n",
    "    Generate answer and give\n",
    "\n",
    "    Args:\n",
    "        state (dict): The current graph state\n",
    "\n",
    "    Returns:\n",
    "        state (dict): New key added to state, generation, that contains LLM generation\n",
    "    \"\"\"\n",
    "    print(\"---GENERATE---\")\n",
    "    question = state[\"question\"]\n",
    "    documents = state[\"documents\"]\n",
    "\n",
    "    # RAG generation\n",
    "    generation = rag_chain.invoke({\"context\": documents, \"question\": question})\n",
    "    return {\"documents\": documents, \"question\": question, \"generation\": generation}\n",
    "\n",
    "\n",
    "def grade_documents(state : GraphState):\n",
    "    \"\"\"\n",
    "    Grade the documents whether they are related to the question or not\n",
    "    Args:\n",
    "        state (dict): The current graph state\n",
    "\n",
    "    Returns:\n",
    "        state (dict): Updates documents key with only filtered relevant documents\n",
    "    \"\"\"\n",
    "    filtered_docs = []\n",
    "    docs = state['documents']\n",
    "    question = state['question']  \n",
    "    for d in docs  :\n",
    "        grade = retrieval_grader.invoke({'documents' : d , \"question\" : question})\n",
    "        score = grade.binaryscore\n",
    "        if (score == 'yes'):\n",
    "            print(\"__ Document is Related __\")\n",
    "            filtered_docs.append(d)\n",
    "        else:\n",
    "            print(\"__ Documents are not related __\")\n",
    "            continue\n",
    "\n",
    "    return {'documents' : filtered_docs , 'question' : question}\n",
    "\n",
    "\n",
    "def transform_query(state):\n",
    "    \"\"\"\n",
    "    Transform the query to produce a better question.\n",
    "\n",
    "    Args:\n",
    "        state (dict): The current graph state\n",
    "\n",
    "    Returns:\n",
    "        state (dict): Updates question key with a re-phrased question\n",
    "    \"\"\"\n",
    "\n",
    "    print(\"---TRANSFORM QUERY---\")\n",
    "    question = state[\"question\"]\n",
    "    documents = state[\"documents\"]\n",
    "\n",
    "    # Re-write question\n",
    "    better_question = question_rewriter.invoke({\"question\": question})\n",
    "    return {\"documents\": documents, \"question\": better_question}\n",
    "\n",
    "def answer_checker(state):\n",
    "    \"\"\"Checks whether the Answer generated by LLM address the question thorougly or not\n",
    "    Args:\n",
    "        state (dict): The current graph state\n",
    "\n",
    "    Returns:\n",
    "        str: Decision for next node to call\n",
    "    \"\"\"\n",
    "    generation = state['generation']\n",
    "    question = state['question']\n",
    "    ans_grade = answer_grader.invoke({\"question\" : question , \"generation\" : generation})\n",
    "    score = ans_grade.binaryscore\n",
    "    if (score == 'yes'):\n",
    "        print(\"__ LLM generation Answers the question correctly __\")\n",
    "        return 'end'\n",
    "    else:\n",
    "        print(\"__ Generation does not answer the question __\")\n",
    "        return 'rewrite'\n",
    "    \n",
    "\n",
    "def decide_to_generate(state):\n",
    "    \"\"\"\n",
    "    Determines whether to generate an answer, or re-generate a question.\n",
    "\n",
    "    Args:\n",
    "        state (dict): The current graph state\n",
    "\n",
    "    Returns:\n",
    "        str: Binary decision for next node to call\n",
    "    \"\"\"\n",
    "    print(\"---ASSESS GRADED DOCUMENTS---\")\n",
    "    state[\"question\"]\n",
    "    filtered_documents = state[\"documents\"]\n",
    "\n",
    "    if not filtered_documents:\n",
    "        # All documents have been filtered check_relevance\n",
    "        # We will re-generate a new query\n",
    "        print(\n",
    "            \"---DECISION: ALL DOCUMENTS ARE NOT RELEVANT TO QUESTION, TRANSFORM QUERY---\"\n",
    "        )\n",
    "        return \"transform_query\"\n",
    "    else:\n",
    "        # We have relevant documents, so generate answer\n",
    "        print(\"---DECISION: GENERATE---\")\n",
    "        return \"generate\"\n"
   ]
  },
  {
   "cell_type": "markdown",
   "id": "75622122",
   "metadata": {},
   "source": [
    "# **`Graph Definition`**"
   ]
  },
  {
   "cell_type": "code",
   "execution_count": 88,
   "id": "94d00109",
   "metadata": {},
   "outputs": [
    {
     "data": {
      "image/png": "[encoded data removed]",
      "text/plain": [
       "<IPython.core.display.Image object>"
      ]
     },
     "metadata": {},
     "output_type": "display_data"
    }
   ],
   "source": [
    "from langgraph.graph import END, StateGraph, START\n",
    "\n",
    "builder = StateGraph(GraphState)\n",
    "builder.add_node('retrieve' , retrieve)\n",
    "builder.add_node('generate' , generate)\n",
    "builder.add_node('transform_query' , transform_query)\n",
    "builder.add_node('grade_documents' , grade_documents)\n",
    "\n",
    "### defining the workflow\n",
    "\n",
    "builder.add_conditional_edges(START , question_decider , \n",
    "                              {\n",
    "                                  'retrieve' : 'retrieve',\n",
    "                                  'end' : END\n",
    "                              })\n",
    "builder.add_edge('retrieve' , 'grade_documents' )\n",
    "builder.add_conditional_edges('grade_documents' , decide_to_generate , \n",
    "                              {\n",
    "                                  'transform_query' : 'transform_query',\n",
    "                                  'generate' : 'generate'\n",
    "                              })\n",
    "builder.add_edge('transform_query' , 'retrieve')\n",
    "builder.add_conditional_edges('generate' , answer_checker , \n",
    "                 {\n",
    "                     'end' : END,\n",
    "                     'rewrite' : 'transform_query'\n",
    "                 })\n",
    "\n",
    "graph = builder.compile()\n",
    "from IPython.display import Image, display, Markdown\n",
    "display(Image(graph.get_graph(xray=True).draw_mermaid_png()))"
   ]
  },
  {
   "cell_type": "code",
   "execution_count": 90,
   "id": "bb82b5f4",
   "metadata": {},
   "outputs": [
    {
     "name": "stderr",
     "output_type": "stream",
     "text": [
      "s:\\AI_AGENTS\\Python_N_Env\\LangGraph\\graphenv\\Lib\\site-packages\\torch\\nn\\modules\\module.py:1762: FutureWarning: `encoder_attention_mask` is deprecated and will be removed in version 4.55.0 for `BertSdpaSelfAttention.forward`.\n",
      "  return forward_call(*args, **kwargs)\n"
     ]
    },
    {
     "name": "stdout",
     "output_type": "stream",
     "text": [
      "----- Question is relative to the documents -----\n"
     ]
    },
    {
     "name": "stderr",
     "output_type": "stream",
     "text": [
      "s:\\AI_AGENTS\\Python_N_Env\\LangGraph\\graphenv\\Lib\\site-packages\\torch\\nn\\modules\\module.py:1762: FutureWarning: `encoder_attention_mask` is deprecated and will be removed in version 4.55.0 for `BertSdpaSelfAttention.forward`.\n",
      "  return forward_call(*args, **kwargs)\n"
     ]
    },
    {
     "name": "stdout",
     "output_type": "stream",
     "text": [
      "__ Documents are not related __\n",
      "__ Document is Related __\n",
      "__ Document is Related __\n",
      "__ Documents are not related __\n",
      "---ASSESS GRADED DOCUMENTS---\n",
      "---DECISION: GENERATE---\n",
      "---GENERATE---\n",
      "__ LLM generation Answers the question correctly __\n"
     ]
    },
    {
     "data": {
      "text/plain": [
       "{'question': 'What are the Advantages of Machine Learning',\n",
       " 'generation': \"The advantages of machine learning include the ability to learn from data and improve performance over time without being explicitly programmed. This allows for efficient processing and analysis of large amounts of data. I don't know the full list of advantages, as the provided context is limited.\",\n",
       " 'documents': [Document(id='1cb37a2e-9e9a-4cd1-8699-758a9c42be5c', metadata={'source': 'info.txt', 'author': 'Shahbaz'}, page_content='to learn from data and improve their performance over time without being explicitly programmed for'),\n",
       "  Document(id='6b0d0e83-967a-4c49-b3f0-9b197ddd7d11', metadata={'source': 'info.txt', 'author': 'Shahbaz'}, page_content='predictions. With the growing availability of data and computational power, machine learning is')]}"
      ]
     },
     "execution_count": 90,
     "metadata": {},
     "output_type": "execute_result"
    }
   ],
   "source": [
    "graph.invoke({\"question\" : \"What are the Advantages of Machine Learning\"})"
   ]
  },
  {
   "cell_type": "code",
   "execution_count": null,
   "id": "f9f2f1a9",
   "metadata": {},
   "outputs": [
    {
     "data": {
      "text/plain": [
       "AIMessage(content='<think>\\nOkay, the user said \"hello\". That\\'s a greeting. I should respond in a friendly way. Maybe ask how they\\'re doing and offer help. Keep it simple and open-ended. Let them know I\\'m here to assist with any questions they have.\\n</think>\\n\\nHello! How can I assist you today? 😊', additional_kwargs={}, response_metadata={'token_usage': {'completion_tokens': 68, 'prompt_tokens': 9, 'total_tokens': 77, 'completion_time': 0.143173102, 'prompt_time': 0.000209026, 'queue_time': 0.006523482, 'total_time': 0.143382128}, 'model_name': 'qwen/qwen3-32b', 'system_fingerprint': 'fp_f17c2eb555', 'service_tier': 'on_demand', 'finish_reason': 'stop', 'logprobs': None}, id='run--418819c2-984c-4bd8-8f07-e2fa4e6ea32a-0', usage_metadata={'input_tokens': 9, 'output_tokens': 68, 'total_tokens': 77})"
      ]
     },
     "execution_count": 77,
     "metadata": {},
     "output_type": "execute_result"
    }
   ],
   "source": []
  },
  {
   "cell_type": "code",
   "execution_count": null,
   "id": "c8687385",
   "metadata": {},
   "outputs": [],
   "source": []
  }
 ],
 "metadata": {
  "kernelspec": {
   "display_name": "Python 3",
   "language": "python",
   "name": "python3"
  },
  "language_info": {
   "codemirror_mode": {
    "name": "ipython",
    "version": 3
   },
   "file_extension": ".py",
   "mimetype": "text/x-python",
   "name": "python",
   "nbconvert_exporter": "python",
   "pygments_lexer": "ipython3",
   "version": "3.12.0"
  }
 },
 "nbformat": 4,
 "nbformat_minor": 5
}
